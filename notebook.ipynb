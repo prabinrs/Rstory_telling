{
 "cells": [
  {
   "cell_type": "markdown",
   "metadata": {
    "dc": {
     "key": "13f090f9f0"
    },
    "deletable": false,
    "editable": false,
    "run_control": {
     "frozen": true
    },
    "tags": [
     "context"
    ]
   },
   "source": [
    "## 1. Meet Dr. Ignaz Semmelweis\n",
    "<p><img style=\"float: left;margin:5px 20px 5px 1px\" src=\"http://s3.amazonaws.com/assets.datacamp.com/production/project_49/datasets/ignaz_semmelweis_1860.jpeg\"></p>\n",
    "<!--\n",
    "<img style=\"float: left;margin:5px 20px 5px 1px\" src=\"https://s3.amazonaws.com/assets.datacamp.com/production/project_49/datasets/ignaz_semmelweis_1860.jpeg\">\n",
    "-->\n",
    "<p>This is Dr. Ignaz Semmelweis, a Hungarian physician born in 1818 and active at the Vienna General Hospital. If Dr. Semmelweis looks troubled it's probably because he's thinking about <em>childbed fever</em>: A deadly disease affecting women that just have given birth. He is thinking about it because in the early 1840s at the Vienna General Hospital as many as 10% of the women giving birth die from it. He is thinking about it because he knows the cause of childbed fever: It's the contaminated hands of the doctors delivering the babies. And they won't listen to him and <em>wash their hands</em>!</p>\n",
    "<p>In this notebook, we're going to reanalyze the data that made Semmelweis discover the importance of <em>handwashing</em>. Let's start by looking at the data that made Semmelweis realize that something was wrong with the procedures at Vienna General Hospital.</p>"
   ]
  },
  {
   "cell_type": "code",
   "execution_count": 3,
   "metadata": {
    "collapsed": false,
    "dc": {
     "key": "13f090f9f0"
    },
    "tags": [
     "sample_code"
    ]
   },
   "outputs": [
    {
     "name": "stderr",
     "output_type": "stream",
     "text": [
      "-- Attaching packages --------------------------------------- tidyverse 1.2.0 --\n",
      "<U+221A> ggplot2 2.2.1     <U+221A> purrr   0.2.4\n",
      "<U+221A> tibble  1.4.1     <U+221A> dplyr   0.7.4\n",
      "<U+221A> tidyr   0.7.2     <U+221A> stringr 1.2.0\n",
      "<U+221A> readr   1.1.1     <U+221A> forcats 0.2.0\n",
      "-- Conflicts ------------------------------------------ tidyverse_conflicts() --\n",
      "x dplyr::filter() masks stats::filter()\n",
      "x dplyr::lag()    masks stats::lag()\n"
     ]
    },
    {
     "name": "stdout",
     "output_type": "stream",
     "text": [
      "   year births deaths   clinic\n",
      "1  1841   3036    237 clinic 1\n",
      "2  1842   3287    518 clinic 1\n",
      "3  1843   3060    274 clinic 1\n",
      "4  1844   3157    260 clinic 1\n",
      "5  1845   3492    241 clinic 1\n",
      "6  1846   4010    459 clinic 1\n",
      "7  1841   2442     86 clinic 2\n",
      "8  1842   2659    202 clinic 2\n",
      "9  1843   2739    164 clinic 2\n",
      "10 1844   2956     68 clinic 2\n",
      "11 1845   3241     66 clinic 2\n",
      "12 1846   3754    105 clinic 2\n"
     ]
    }
   ],
   "source": [
    "# Load in the tidyverse package\n",
    "# .... YOUR CODE FOR TASK 1 ....\n",
    "library(tidyverse) \n",
    "# Read datasets/yearly_deaths_by_clinic.csv into yearly\n",
    "yearly <-read.csv(\"datasets/yearly_deaths_by_clinic.csv\") \n",
    "# Print out yearly\n",
    "print(yearly) \n",
    "# .... YOUR CODE FOR TASK 1 ...."
   ]
  },
  {
   "cell_type": "code",
   "execution_count": 4,
   "metadata": {
    "collapsed": false,
    "dc": {
     "key": "13f090f9f0"
    },
    "hide": true,
    "tags": [
     "tests"
    ]
   },
   "outputs": [
    {
     "name": "stderr",
     "output_type": "stream",
     "text": [
      "\n",
      "Attaching package: 'testthat'\n",
      "\n",
      "The following object is masked from 'package:dplyr':\n",
      "\n",
      "    matches\n",
      "\n",
      "The following object is masked from 'package:purrr':\n",
      "\n",
      "    is_null\n",
      "\n"
     ]
    },
    {
     "data": {
      "application/json": "{\"success\":false,\"summary\":{\"tests\":2,\"failures\":2,\"errors\":0},\"tests\":[{\"name\":\"Read in data correctly.\",\"message\":\"`yearly` inherits from `data.frame` not `tbl_df`.\\nYou should use read_csv (with an underscore) to read \\\"datasets/yearly_deaths_by_clinic.csv\\\" into yearly.\\n\",\"success\":false,\"outcome\":\"fail\"},{\"name\":\"Read in data correctly.\",\"message\":\"`yearly` not equivalent to `yearly_temp`.\\nComponent \\\"clinic\\\": 'current' is not a factor\\nyearly should contain the data in \\\"datasets/yearly_deaths_by_clinic.csv\\\"\\n\",\"success\":false,\"outcome\":\"fail\"}]}"
     },
     "metadata": {},
     "output_type": "display_data"
    },
    {
     "data": {
      "text/plain": [
       "<ProjectReporter>\n",
       "  Inherits from: <ListReporter>\n",
       "  Public:\n",
       "    .context: NULL\n",
       "    .end_context: function (context) \n",
       "    .start_context: function (context) \n",
       "    add_result: function (context, test, result) \n",
       "    all_tests: environment\n",
       "    cat_line: function (...) \n",
       "    cat_tight: function (...) \n",
       "    clone: function (deep = FALSE) \n",
       "    current_expectations: environment\n",
       "    current_file: some name\n",
       "    current_start_time: 2.308 0.088 115.364 0 0\n",
       "    dump_test: function (test) \n",
       "    end_context: function (context) \n",
       "    end_reporter: function () \n",
       "    end_test: function (context, test) \n",
       "    get_results: function () \n",
       "    initialize: function (...) \n",
       "    is_full: function () \n",
       "    out: 3\n",
       "    results: environment\n",
       "    rule: function (...) \n",
       "    start_context: function (context) \n",
       "    start_file: function (name) \n",
       "    start_reporter: function () \n",
       "    start_test: function (context, test) "
      ]
     },
     "metadata": {},
     "output_type": "display_data"
    }
   ],
   "source": [
    "library(testthat) \n",
    "library(IRkernel.testthat)\n",
    "run_tests({\n",
    "    test_that(\"Read in data correctly.\", {\n",
    "        expect_is(yearly, \"tbl_df\", \n",
    "            info = 'You should use read_csv (with an underscore) to read \"datasets/yearly_deaths_by_clinic.csv\" into yearly.')\n",
    "    })\n",
    "    \n",
    "    test_that(\"Read in data correctly.\", {\n",
    "        yearly_temp <- read_csv('datasets/yearly_deaths_by_clinic.csv')\n",
    "        expect_equivalent(yearly, yearly_temp, \n",
    "            info = 'yearly should contain the data in \"datasets/yearly_deaths_by_clinic.csv\"')\n",
    "    })\n",
    "})"
   ]
  },
  {
   "cell_type": "markdown",
   "metadata": {
    "dc": {
     "key": "45ea098e15"
    },
    "deletable": false,
    "editable": false,
    "run_control": {
     "frozen": true
    },
    "tags": [
     "context"
    ]
   },
   "source": [
    "## 2. The alarming number of deaths\n",
    "<p>The table above shows the number of women giving birth at the two clinics at the Vienna General Hospital for the years 1841 to 1846. You'll notice that giving birth was very dangerous; an <em>alarming</em> number of women died as the result of childbirth, most of them from childbed fever.</p>\n",
    "<p>We see this more clearly if we look at the <em>proportion of deaths</em> out of the number of women giving birth. </p>"
   ]
  },
  {
   "cell_type": "code",
   "execution_count": 5,
   "metadata": {
    "collapsed": false,
    "dc": {
     "key": "45ea098e15"
    },
    "tags": [
     "sample_code"
    ]
   },
   "outputs": [
    {
     "data": {
      "text/html": [
       "<table>\n",
       "<thead><tr><th scope=col>year</th><th scope=col>births</th><th scope=col>deaths</th><th scope=col>clinic</th><th scope=col>proportion_deaths</th><th scope=col>deathPro</th></tr></thead>\n",
       "<tbody>\n",
       "\t<tr><td>1841      </td><td>3036      </td><td>237       </td><td>clinic 1  </td><td>0.07806324</td><td>0.07806324</td></tr>\n",
       "\t<tr><td>1842      </td><td>3287      </td><td>518       </td><td>clinic 1  </td><td>0.15759051</td><td>0.15759051</td></tr>\n",
       "\t<tr><td>1843      </td><td>3060      </td><td>274       </td><td>clinic 1  </td><td>0.08954248</td><td>0.08954248</td></tr>\n",
       "\t<tr><td>1844      </td><td>3157      </td><td>260       </td><td>clinic 1  </td><td>0.08235667</td><td>0.08235667</td></tr>\n",
       "\t<tr><td>1845      </td><td>3492      </td><td>241       </td><td>clinic 1  </td><td>0.06901489</td><td>0.06901489</td></tr>\n",
       "\t<tr><td>1846      </td><td>4010      </td><td>459       </td><td>clinic 1  </td><td>0.11446384</td><td>0.11446384</td></tr>\n",
       "\t<tr><td>1841      </td><td>2442      </td><td> 86       </td><td>clinic 2  </td><td>0.03521704</td><td>0.03521704</td></tr>\n",
       "\t<tr><td>1842      </td><td>2659      </td><td>202       </td><td>clinic 2  </td><td>0.07596841</td><td>0.07596841</td></tr>\n",
       "\t<tr><td>1843      </td><td>2739      </td><td>164       </td><td>clinic 2  </td><td>0.05987587</td><td>0.05987587</td></tr>\n",
       "\t<tr><td>1844      </td><td>2956      </td><td> 68       </td><td>clinic 2  </td><td>0.02300406</td><td>0.02300406</td></tr>\n",
       "\t<tr><td>1845      </td><td>3241      </td><td> 66       </td><td>clinic 2  </td><td>0.02036409</td><td>0.02036409</td></tr>\n",
       "\t<tr><td>1846      </td><td>3754      </td><td>105       </td><td>clinic 2  </td><td>0.02797017</td><td>0.02797017</td></tr>\n",
       "</tbody>\n",
       "</table>\n"
      ],
      "text/latex": [
       "\\begin{tabular}{r|llllll}\n",
       " year & births & deaths & clinic & proportion\\_deaths & deathPro\\\\\n",
       "\\hline\n",
       "\t 1841       & 3036       & 237        & clinic 1   & 0.07806324 & 0.07806324\\\\\n",
       "\t 1842       & 3287       & 518        & clinic 1   & 0.15759051 & 0.15759051\\\\\n",
       "\t 1843       & 3060       & 274        & clinic 1   & 0.08954248 & 0.08954248\\\\\n",
       "\t 1844       & 3157       & 260        & clinic 1   & 0.08235667 & 0.08235667\\\\\n",
       "\t 1845       & 3492       & 241        & clinic 1   & 0.06901489 & 0.06901489\\\\\n",
       "\t 1846       & 4010       & 459        & clinic 1   & 0.11446384 & 0.11446384\\\\\n",
       "\t 1841       & 2442       &  86        & clinic 2   & 0.03521704 & 0.03521704\\\\\n",
       "\t 1842       & 2659       & 202        & clinic 2   & 0.07596841 & 0.07596841\\\\\n",
       "\t 1843       & 2739       & 164        & clinic 2   & 0.05987587 & 0.05987587\\\\\n",
       "\t 1844       & 2956       &  68        & clinic 2   & 0.02300406 & 0.02300406\\\\\n",
       "\t 1845       & 3241       &  66        & clinic 2   & 0.02036409 & 0.02036409\\\\\n",
       "\t 1846       & 3754       & 105        & clinic 2   & 0.02797017 & 0.02797017\\\\\n",
       "\\end{tabular}\n"
      ],
      "text/markdown": [
       "\n",
       "year | births | deaths | clinic | proportion_deaths | deathPro | \n",
       "|---|---|---|---|---|---|---|---|---|---|---|---|\n",
       "| 1841       | 3036       | 237        | clinic 1   | 0.07806324 | 0.07806324 | \n",
       "| 1842       | 3287       | 518        | clinic 1   | 0.15759051 | 0.15759051 | \n",
       "| 1843       | 3060       | 274        | clinic 1   | 0.08954248 | 0.08954248 | \n",
       "| 1844       | 3157       | 260        | clinic 1   | 0.08235667 | 0.08235667 | \n",
       "| 1845       | 3492       | 241        | clinic 1   | 0.06901489 | 0.06901489 | \n",
       "| 1846       | 4010       | 459        | clinic 1   | 0.11446384 | 0.11446384 | \n",
       "| 1841       | 2442       |  86        | clinic 2   | 0.03521704 | 0.03521704 | \n",
       "| 1842       | 2659       | 202        | clinic 2   | 0.07596841 | 0.07596841 | \n",
       "| 1843       | 2739       | 164        | clinic 2   | 0.05987587 | 0.05987587 | \n",
       "| 1844       | 2956       |  68        | clinic 2   | 0.02300406 | 0.02300406 | \n",
       "| 1845       | 3241       |  66        | clinic 2   | 0.02036409 | 0.02036409 | \n",
       "| 1846       | 3754       | 105        | clinic 2   | 0.02797017 | 0.02797017 | \n",
       "\n",
       "\n"
      ],
      "text/plain": [
       "   year births deaths clinic   proportion_deaths deathPro  \n",
       "1  1841 3036   237    clinic 1 0.07806324        0.07806324\n",
       "2  1842 3287   518    clinic 1 0.15759051        0.15759051\n",
       "3  1843 3060   274    clinic 1 0.08954248        0.08954248\n",
       "4  1844 3157   260    clinic 1 0.08235667        0.08235667\n",
       "5  1845 3492   241    clinic 1 0.06901489        0.06901489\n",
       "6  1846 4010   459    clinic 1 0.11446384        0.11446384\n",
       "7  1841 2442    86    clinic 2 0.03521704        0.03521704\n",
       "8  1842 2659   202    clinic 2 0.07596841        0.07596841\n",
       "9  1843 2739   164    clinic 2 0.05987587        0.05987587\n",
       "10 1844 2956    68    clinic 2 0.02300406        0.02300406\n",
       "11 1845 3241    66    clinic 2 0.02036409        0.02036409\n",
       "12 1846 3754   105    clinic 2 0.02797017        0.02797017"
      ]
     },
     "metadata": {},
     "output_type": "display_data"
    }
   ],
   "source": [
    "# Adding a new column to yearly with proportion of deaths per no. births\n",
    "# .... YOUR CODE FOR TASK 1 ....\n",
    "yearly<-yearly%>% mutate(proportion_deaths = deaths/births)\n",
    "yearly$deathPro<-yearly$deaths/yearly$births\n",
    "# Print out yearly\n",
    "yearly"
   ]
  },
  {
   "cell_type": "code",
   "execution_count": 6,
   "metadata": {
    "collapsed": false,
    "dc": {
     "key": "45ea098e15"
    },
    "hide": true,
    "tags": [
     "tests"
    ]
   },
   "outputs": [
    {
     "data": {
      "application/json": "{\"success\":false,\"summary\":{\"tests\":2,\"failures\":1,\"errors\":0},\"tests\":[{\"name\":\"A proportion_deaths column exists\",\"message\":\"success\",\"success\":true,\"outcome\":\"success\"},{\"name\":\"Read in data correctly.\",\"message\":\"`yearly` not equivalent to `yearly_temp`.\\nLength mismatch: comparison on first 5 components\\nComponent \\\"clinic\\\": 'current' is not a factor\\nproportion_deaths should be calculated as deaths / births\\n\",\"success\":false,\"outcome\":\"fail\"}]}"
     },
     "metadata": {},
     "output_type": "display_data"
    },
    {
     "data": {
      "text/plain": [
       "<ProjectReporter>\n",
       "  Inherits from: <ListReporter>\n",
       "  Public:\n",
       "    .context: NULL\n",
       "    .end_context: function (context) \n",
       "    .start_context: function (context) \n",
       "    add_result: function (context, test, result) \n",
       "    all_tests: environment\n",
       "    cat_line: function (...) \n",
       "    cat_tight: function (...) \n",
       "    clone: function (deep = FALSE) \n",
       "    current_expectations: environment\n",
       "    current_file: some name\n",
       "    current_start_time: 2.608 0.096 115.721 0 0\n",
       "    dump_test: function (test) \n",
       "    end_context: function (context) \n",
       "    end_reporter: function () \n",
       "    end_test: function (context, test) \n",
       "    get_results: function () \n",
       "    initialize: function (...) \n",
       "    is_full: function () \n",
       "    out: 3\n",
       "    results: environment\n",
       "    rule: function (...) \n",
       "    start_context: function (context) \n",
       "    start_file: function (name) \n",
       "    start_reporter: function () \n",
       "    start_test: function (context, test) "
      ]
     },
     "metadata": {},
     "output_type": "display_data"
    }
   ],
   "source": [
    "run_tests({\n",
    "    test_that(\"A proportion_deaths column exists\", {\n",
    "        expect_true(\"proportion_deaths\" %in% names(yearly), \n",
    "            info = 'yearly should have the new column proportion_deaths')\n",
    "    })\n",
    "    \n",
    "    test_that(\"Read in data correctly.\", {\n",
    "        yearly_temp <- read_csv('datasets/yearly_deaths_by_clinic.csv') %>% \n",
    "          mutate(proportion_deaths = deaths / births)\n",
    "        expect_equivalent(yearly, yearly_temp, \n",
    "            info = 'proportion_deaths should be calculated as deaths / births')\n",
    "    })\n",
    "})"
   ]
  },
  {
   "cell_type": "markdown",
   "metadata": {
    "dc": {
     "key": "2bc9206960"
    },
    "deletable": false,
    "editable": false,
    "run_control": {
     "frozen": true
    },
    "tags": [
     "context"
    ]
   },
   "source": [
    "## 3. Death at the clinics\n",
    "<p>If we now plot the proportion of deaths at both clinic 1 and clinic 2  we'll see a curious pattern...</p>"
   ]
  },
  {
   "cell_type": "code",
   "execution_count": 7,
   "metadata": {
    "collapsed": false,
    "dc": {
     "key": "2bc9206960"
    },
    "tags": [
     "sample_code"
    ]
   },
   "outputs": [
    {
     "data": {},
     "metadata": {},
     "output_type": "display_data"
    },
    {
     "data": {
      "image/png": "[encoded data removed]",
      "text/plain": [
       "plot without title"
      ]
     },
     "metadata": {},
     "output_type": "display_data"
    }
   ],
   "source": [
    "# Setting the size of plots in this notebook\n",
    "options(repr.plot.width=7, repr.plot.height=4)\n",
    "\n",
    "# Plot yearly proportion of deaths at the two clinics\n",
    "# .... YOUR CODE FOR TASK 3 ....\n",
    "ggplot(yearly,aes(x=year, y=proportion_deaths, group=clinic,color=clinic))+\n",
    "geom_line()"
   ]
  },
  {
   "cell_type": "code",
   "execution_count": 8,
   "metadata": {
    "collapsed": false,
    "dc": {
     "key": "2bc9206960"
    },
    "hide": true,
    "tags": [
     "tests"
    ]
   },
   "outputs": [
    {
     "data": {
      "application/json": "{\"success\":true,\"summary\":{\"tests\":1,\"failures\":0,\"errors\":0},\"tests\":[{\"name\":\"The right columns are plotted\",\"message\":\"success\",\"success\":true,\"outcome\":\"success\"}]}"
     },
     "metadata": {},
     "output_type": "display_data"
    },
    {
     "data": {
      "text/plain": [
       "<ProjectReporter>\n",
       "  Inherits from: <ListReporter>\n",
       "  Public:\n",
       "    .context: NULL\n",
       "    .end_context: function (context) \n",
       "    .start_context: function (context) \n",
       "    add_result: function (context, test, result) \n",
       "    all_tests: environment\n",
       "    cat_line: function (...) \n",
       "    cat_tight: function (...) \n",
       "    clone: function (deep = FALSE) \n",
       "    current_expectations: environment\n",
       "    current_file: some name\n",
       "    current_start_time: 4.112 0.104 117.289 0 0\n",
       "    dump_test: function (test) \n",
       "    end_context: function (context) \n",
       "    end_reporter: function () \n",
       "    end_test: function (context, test) \n",
       "    get_results: function () \n",
       "    initialize: function (...) \n",
       "    is_full: function () \n",
       "    out: 3\n",
       "    results: environment\n",
       "    rule: function (...) \n",
       "    start_context: function (context) \n",
       "    start_file: function (name) \n",
       "    start_reporter: function () \n",
       "    start_test: function (context, test) "
      ]
     },
     "metadata": {},
     "output_type": "display_data"
    }
   ],
   "source": [
    "run_tests({\n",
    "    test_that(\"The right columns are plotted\", {\n",
    "        correct_mapping <- c(\"x\", \"y\", \"colour\")\n",
    "        student_mapping <- names(last_plot()$labels)\n",
    "        student_mapping <- student_mapping[student_mapping %in% c(\"x\", \"y\", \"colour\")]\n",
    "        expect_equivalent(correct_mapping, student_mapping,\n",
    "            info = 'year should be on the x-axis, proportion_deaths on the y-axis, and the color should depend on clinic .')\n",
    "    })\n",
    "    \n",
    "})"
   ]
  },
  {
   "cell_type": "markdown",
   "metadata": {
    "dc": {
     "key": "0c9fdbf550"
    },
    "deletable": false,
    "editable": false,
    "run_control": {
     "frozen": true
    },
    "tags": [
     "context"
    ]
   },
   "source": [
    "## 4. The handwashing begins\n",
    "<p>Why is the proportion of deaths constantly so much higher in Clinic 1? Semmelweis saw the same pattern and was puzzled and distressed. The only difference between the clinics was that many medical students served at Clinic 1, while mostly midwife students served at Clinic 2. While the midwives only tended to the women giving birth, the medical students also spent time in the autopsy rooms examining corpses. </p>\n",
    "<p>Semmelweis started to suspect that something on the corpses, spread from the hands of the medical students, caused childbed fever. So in a desperate attempt to stop the high mortality rates, he decreed: <em>Wash your hands!</em> This was an unorthodox and controversial request, nobody in Vienna knew about bacteria at this point in time. </p>\n",
    "<p>Let's load in monthly data from Clinic 1 to see if the handwashing had any effect.</p>"
   ]
  },
  {
   "cell_type": "code",
   "execution_count": 9,
   "metadata": {
    "collapsed": false,
    "dc": {
     "key": "0c9fdbf550"
    },
    "tags": [
     "sample_code"
    ]
   },
   "outputs": [
    {
     "data": {
      "text/html": [
       "<table>\n",
       "<thead><tr><th scope=col>date</th><th scope=col>births</th><th scope=col>deaths</th><th scope=col>proportion_deaths</th></tr></thead>\n",
       "<tbody>\n",
       "\t<tr><td>1841-01-01</td><td>254       </td><td>37        </td><td>0.1456693 </td></tr>\n",
       "</tbody>\n",
       "</table>\n"
      ],
      "text/latex": [
       "\\begin{tabular}{r|llll}\n",
       " date & births & deaths & proportion\\_deaths\\\\\n",
       "\\hline\n",
       "\t 1841-01-01 & 254        & 37         & 0.1456693 \\\\\n",
       "\\end{tabular}\n"
      ],
      "text/markdown": [
       "\n",
       "date | births | deaths | proportion_deaths | \n",
       "|---|\n",
       "| 1841-01-01 | 254        | 37         | 0.1456693  | \n",
       "\n",
       "\n"
      ],
      "text/plain": [
       "  date       births deaths proportion_deaths\n",
       "1 1841-01-01 254    37     0.1456693        "
      ]
     },
     "metadata": {},
     "output_type": "display_data"
    },
    {
     "data": {
      "text/html": [
       "<table>\n",
       "<thead><tr><th scope=col>date</th><th scope=col>births</th><th scope=col>deaths</th><th scope=col>proportion_deaths</th></tr></thead>\n",
       "<tbody>\n",
       "\t<tr><td>1841-01-01 </td><td>254        </td><td>37         </td><td>0.145669291</td></tr>\n",
       "\t<tr><td>1841-02-01 </td><td>239        </td><td>18         </td><td>0.075313808</td></tr>\n",
       "\t<tr><td>1841-03-01 </td><td>277        </td><td>12         </td><td>0.043321300</td></tr>\n",
       "\t<tr><td>1841-04-01 </td><td>255        </td><td> 4         </td><td>0.015686275</td></tr>\n",
       "\t<tr><td>1841-05-01 </td><td>255        </td><td> 2         </td><td>0.007843137</td></tr>\n",
       "\t<tr><td>1841-06-01 </td><td>200        </td><td>10         </td><td>0.050000000</td></tr>\n",
       "</tbody>\n",
       "</table>\n"
      ],
      "text/latex": [
       "\\begin{tabular}{r|llll}\n",
       " date & births & deaths & proportion\\_deaths\\\\\n",
       "\\hline\n",
       "\t 1841-01-01  & 254         & 37          & 0.145669291\\\\\n",
       "\t 1841-02-01  & 239         & 18          & 0.075313808\\\\\n",
       "\t 1841-03-01  & 277         & 12          & 0.043321300\\\\\n",
       "\t 1841-04-01  & 255         &  4          & 0.015686275\\\\\n",
       "\t 1841-05-01  & 255         &  2          & 0.007843137\\\\\n",
       "\t 1841-06-01  & 200         & 10          & 0.050000000\\\\\n",
       "\\end{tabular}\n"
      ],
      "text/markdown": [
       "\n",
       "date | births | deaths | proportion_deaths | \n",
       "|---|---|---|---|---|---|\n",
       "| 1841-01-01  | 254         | 37          | 0.145669291 | \n",
       "| 1841-02-01  | 239         | 18          | 0.075313808 | \n",
       "| 1841-03-01  | 277         | 12          | 0.043321300 | \n",
       "| 1841-04-01  | 255         |  4          | 0.015686275 | \n",
       "| 1841-05-01  | 255         |  2          | 0.007843137 | \n",
       "| 1841-06-01  | 200         | 10          | 0.050000000 | \n",
       "\n",
       "\n"
      ],
      "text/plain": [
       "  date       births deaths proportion_deaths\n",
       "1 1841-01-01 254    37     0.145669291      \n",
       "2 1841-02-01 239    18     0.075313808      \n",
       "3 1841-03-01 277    12     0.043321300      \n",
       "4 1841-04-01 255     4     0.015686275      \n",
       "5 1841-05-01 255     2     0.007843137      \n",
       "6 1841-06-01 200    10     0.050000000      "
      ]
     },
     "metadata": {},
     "output_type": "display_data"
    }
   ],
   "source": [
    "# Read datasets/monthly_deaths.csv into monthly\n",
    "monthly <-read.csv(\"datasets/monthly_deaths.csv\")\n",
    "# Adding a new column with proportion of deaths per no. births\n",
    "# .... YOUR CODE FOR TASK 4 ....\n",
    "monthly$proportion_deaths<-monthly$deaths/monthly$births\n",
    "#monthly%>%mutate(protporiton_deaths=deaths/births)\n",
    "monthly$date<-as.Date(monthly$date)\n",
    "# Print out the first rows in monthly\n",
    " .... YOUR CODE FOR TASK 4 ....\n",
    "head(monthly,1)\n",
    "head(monthly)"
   ]
  },
  {
   "cell_type": "code",
   "execution_count": 10,
   "metadata": {
    "collapsed": false,
    "dc": {
     "key": "0c9fdbf550"
    },
    "hide": true,
    "tags": [
     "tests"
    ]
   },
   "outputs": [
    {
     "data": {
      "application/json": "{\"success\":false,\"summary\":{\"tests\":3,\"failures\":1,\"errors\":0},\"tests\":[{\"name\":\"Read in data correctly.\",\"message\":\"`monthly` inherits from `data.frame` not `tbl_df`.\\nYou should use read_csv (with an underscore) to read \\\"datasets/monthly_deaths.csv\\\" into monthly.\\n\",\"success\":false,\"outcome\":\"fail\"},{\"name\":\"Read in monthly correctly.\",\"message\":\"success\",\"success\":true,\"outcome\":\"success\"},{\"name\":\"proportion_death is calculated correctly.\",\"message\":\"success\",\"success\":true,\"outcome\":\"success\"}]}"
     },
     "metadata": {},
     "output_type": "display_data"
    },
    {
     "data": {
      "text/plain": [
       "<ProjectReporter>\n",
       "  Inherits from: <ListReporter>\n",
       "  Public:\n",
       "    .context: NULL\n",
       "    .end_context: function (context) \n",
       "    .start_context: function (context) \n",
       "    add_result: function (context, test, result) \n",
       "    all_tests: environment\n",
       "    cat_line: function (...) \n",
       "    cat_tight: function (...) \n",
       "    clone: function (deep = FALSE) \n",
       "    current_expectations: environment\n",
       "    current_file: some name\n",
       "    current_start_time: 4.224 0.108 117.408 0 0\n",
       "    dump_test: function (test) \n",
       "    end_context: function (context) \n",
       "    end_reporter: function () \n",
       "    end_test: function (context, test) \n",
       "    get_results: function () \n",
       "    initialize: function (...) \n",
       "    is_full: function () \n",
       "    out: 3\n",
       "    results: environment\n",
       "    rule: function (...) \n",
       "    start_context: function (context) \n",
       "    start_file: function (name) \n",
       "    start_reporter: function () \n",
       "    start_test: function (context, test) "
      ]
     },
     "metadata": {},
     "output_type": "display_data"
    }
   ],
   "source": []
  },
  {
   "cell_type": "markdown",
   "metadata": {
    "dc": {
     "key": "2da2a84119"
    },
    "deletable": false,
    "editable": false,
    "run_control": {
     "frozen": true
    },
    "tags": [
     "context"
    ]
   },
   "source": [
    "## 5. The effect of handwashing\n",
    "<p>With the data loaded we can now look at the proportion of deaths over time. In the plot below we haven't marked where obligatory handwashing started, but it reduced the proportion of deaths to such a degree that you should be able to spot it!</p>"
   ]
  },
  {
   "cell_type": "code",
   "execution_count": 2,
   "metadata": {
    "collapsed": false,
    "dc": {
     "key": "2da2a84119"
    },
    "scrolled": true,
    "tags": [
     "sample_code"
    ]
   },
   "outputs": [
    {
     "name": "stderr",
     "output_type": "stream",
     "text": [
      "-- Attaching packages --------------------------------------- tidyverse 1.2.1 --\n",
      "v ggplot2 2.2.1     v purrr   0.2.4\n",
      "v tibble  1.4.2     v dplyr   0.7.4\n",
      "v tidyr   0.7.2     v stringr 1.2.0\n",
      "v readr   1.1.1     v forcats 0.2.0\n",
      "-- Conflicts ------------------------------------------ tidyverse_conflicts() --\n",
      "x dplyr::filter() masks stats::filter()\n",
      "x dplyr::lag()    masks stats::lag()\n"
     ]
    },
    {
     "ename": "ERROR",
     "evalue": "Error in ggplot(monthly, aes(x = date, y = proportion_deaths, color = \"red\")): object 'monthly' not found\n",
     "output_type": "error",
     "traceback": [
      "Error in ggplot(monthly, aes(x = date, y = proportion_deaths, color = \"red\")): object 'monthly' not found\nTraceback:\n",
      "1. ggplot(monthly, aes(x = date, y = proportion_deaths, color = \"red\"))"
     ]
    }
   ],
   "source": [
    "# Plot monthly proportion of deaths\n",
    "library(tidyverse)\n",
    "# ... YOUR CODE FOR TASK 5 ...\n",
    "ggplot(monthly, aes(x=date,y=proportion_deaths, color=\"red\"))+\n",
    "geom_line()+\n",
    "labs(x=\"Date\", y = \"Proportion of Deaths\")"
   ]
  },
  {
   "cell_type": "code",
   "execution_count": 12,
   "metadata": {
    "collapsed": false,
    "dc": {
     "key": "2da2a84119"
    },
    "hide": true,
    "tags": [
     "tests"
    ]
   },
   "outputs": [
    {
     "data": {
      "application/json": "{\"success\":true,\"summary\":{\"tests\":1,\"failures\":0,\"errors\":0},\"tests\":[{\"name\":\"The right columns are plotted\",\"message\":\"success\",\"success\":true,\"outcome\":\"success\"}]}"
     },
     "metadata": {},
     "output_type": "display_data"
    },
    {
     "data": {
      "text/plain": [
       "<ProjectReporter>\n",
       "  Inherits from: <ListReporter>\n",
       "  Public:\n",
       "    .context: NULL\n",
       "    .end_context: function (context) \n",
       "    .start_context: function (context) \n",
       "    add_result: function (context, test, result) \n",
       "    all_tests: environment\n",
       "    cat_line: function (...) \n",
       "    cat_tight: function (...) \n",
       "    clone: function (deep = FALSE) \n",
       "    current_expectations: environment\n",
       "    current_file: some name\n",
       "    current_start_time: 5.416 0.116 118.66 0 0\n",
       "    dump_test: function (test) \n",
       "    end_context: function (context) \n",
       "    end_reporter: function () \n",
       "    end_test: function (context, test) \n",
       "    get_results: function () \n",
       "    initialize: function (...) \n",
       "    is_full: function () \n",
       "    out: 3\n",
       "    results: environment\n",
       "    rule: function (...) \n",
       "    start_context: function (context) \n",
       "    start_file: function (name) \n",
       "    start_reporter: function () \n",
       "    start_test: function (context, test) "
      ]
     },
     "metadata": {},
     "output_type": "display_data"
    }
   ],
   "source": [
    "run_tests({\n",
    "    test_that(\"The right columns are plotted\", {\n",
    "        correct_mapping <- list(x = as.symbol(\"date\"), y = as.symbol(\"proportion_deaths\"))\n",
    "        student_mapping <- last_plot()$mapping\n",
    "        expect_equivalent(correct_mapping, student_mapping,\n",
    "            info = 'date should be on the x-axis, proportion_deaths on the y-axis.')\n",
    "    })  \n",
    "})"
   ]
  },
  {
   "cell_type": "markdown",
   "metadata": {
    "dc": {
     "key": "518e95acc5"
    },
    "deletable": false,
    "editable": false,
    "run_control": {
     "frozen": true
    },
    "tags": [
     "context"
    ]
   },
   "source": [
    "## 6. The effect of handwashing highlighted\n",
    "<p>Starting from the summer of 1847 the proportion of deaths is drastically reduced and, yes, this was when Semmelweis made handwashing obligatory. </p>\n",
    "<p>The effect of handwashing is made even more clear if we highlight this in the graph.</p>"
   ]
  },
  {
   "cell_type": "code",
   "execution_count": null,
   "metadata": {
    "collapsed": false,
    "dc": {
     "key": "518e95acc5"
    },
    "tags": [
     "sample_code"
    ]
   },
   "outputs": [
    {
     "data": {},
     "metadata": {},
     "output_type": "display_data"
    }
   ],
   "source": [
    "# From this date handwashing was made mandatory\n",
    "handwashing_start = as.Date('1847-06-01')\n",
    "\n",
    "# Add a TRUE/FALSE column to monthly called handwashing_started\n",
    "# .... YOUR CODE FOR TASK 6 ....\n",
    "monthly$handwashing_started[monthly$date>=handwashing_start]<-TRUE\n",
    "monthly$handwashing_started[monthly$date<handwashing_start]<-FALSE\n",
    "#monthly<- monthly%>% \n",
    "   # mutate(handwashing_started = ifelse(date>=handwashing_start,T,F))\n",
    "# Plot monthly proportion of deaths before and after handwashing\n",
    "# .... YOUR CODE FOR TASK 6 ....\n",
    "ggplot(monthly, aes(x=date, y=proportion_deaths, color = handwashing_started))+\n",
    "geom_line()+\n",
    "labs(x= \"Date\", y=\"Proportion of deaths\")"
   ]
  },
  {
   "cell_type": "code",
   "execution_count": null,
   "metadata": {
    "collapsed": true,
    "dc": {
     "key": "518e95acc5"
    },
    "hide": true,
    "tags": [
     "tests"
    ]
   },
   "outputs": [],
   "source": [
    "run_tests({\n",
    "    test_that(\"handwashing_started has been defined\", {\n",
    "        expect_true(\"handwashing_started\" %in% names(monthly),\n",
    "            info = 'monthly should contain the column handwashing_started.')\n",
    "    })  \n",
    "    \n",
    "    test_that(\"there are 22 rows where handwashing_started is TRUE\", {\n",
    "        expect_equal(22, sum(monthly$handwashing_started),\n",
    "            info = 'handwashing_started should be a TRUE/FALSE column where the rows where handwashing was enforced are set to TRUE.')\n",
    "    })\n",
    "    \n",
    "    test_that(\"The right columns are plotted\", {\n",
    "        correct_mapping <- c(\"x\", \"y\", \"colour\")\n",
    "        student_mapping <- names(last_plot()$labels)\n",
    "        student_mapping <- student_mapping[student_mapping %in% c(\"x\", \"y\", \"colour\")]\n",
    "        expect_equivalent(correct_mapping, student_mapping,\n",
    "            info = 'date should be on the x-axis, proportion_deaths on the y-axis, and handwashing_started should be mapped to color.')\n",
    "    })  \n",
    "})"
   ]
  },
  {
   "cell_type": "markdown",
   "metadata": {
    "dc": {
     "key": "586a9f9803"
    },
    "deletable": false,
    "editable": false,
    "run_control": {
     "frozen": true
    },
    "tags": [
     "context"
    ]
   },
   "source": [
    "## 7. More handwashing, fewer deaths?\n",
    "<p>Again, the graph shows that handwashing had a huge effect. How much did it reduce the monthly proportion of deaths on average?</p>"
   ]
  },
  {
   "cell_type": "code",
   "execution_count": null,
   "metadata": {
    "collapsed": true,
    "dc": {
     "key": "586a9f9803"
    },
    "tags": [
     "sample_code"
    ]
   },
   "outputs": [],
   "source": [
    "# Calculating the mean proportion of deaths \n",
    "# before and after handwashing.\n",
    "\n",
    "monthly_summary <- monthly %>% group_by(handwashing_started) %>% summarise(avg=mean(proportion_deaths))\n",
    "# .... YOUR CODE FOR TASK 7 HERE ....\n",
    "\n",
    "# Printing out the summary.\n",
    "monthly_summary"
   ]
  },
  {
   "cell_type": "code",
   "execution_count": null,
   "metadata": {
    "collapsed": true,
    "dc": {
     "key": "586a9f9803"
    },
    "hide": true,
    "tags": [
     "tests"
    ]
   },
   "outputs": [],
   "source": [
    "run_tests({\n",
    "    test_that(\"mean_proportion_deaths was calculated correctly\", {\n",
    "        flat_summary <- as.numeric(unlist(monthly_summary))\n",
    "        handwashing_start = as.Date('1847-06-01')\n",
    "        monthly_temp <- read_csv(\"datasets/monthly_deaths.csv\") %>% \n",
    "          mutate(proportion_deaths = deaths / births) %>% \n",
    "          mutate(handwashing_started = date >= handwashing_start) %>% \n",
    "          group_by(handwashing_started) %>%\n",
    "          summarise(mean_proportion_deaths = mean(proportion_deaths))\n",
    "        expect_true(all(monthly_temp$mean_proportion_deaths %in% flat_summary),\n",
    "            info = 'monthly_summary should containt the mean monthly proportion of deaths before and after handwashing was enforced.')\n",
    "    })  \n",
    "})"
   ]
  },
  {
   "cell_type": "markdown",
   "metadata": {
    "dc": {
     "key": "d8ff65292a"
    },
    "deletable": false,
    "editable": false,
    "run_control": {
     "frozen": true
    },
    "tags": [
     "context"
    ]
   },
   "source": [
    "## 8. A statistical analysis of Semmelweis handwashing data\n",
    "<p>It reduced the proportion of deaths by around 8 percentage points! From 10% on average before handwashing to just 2% when handwashing was enforced (which is still a high number by modern standards). \n",
    "To get a feeling for the uncertainty around how much handwashing reduces mortalities we could look at a confidence interval (here calculated using a t-test).</p>"
   ]
  },
  {
   "cell_type": "code",
   "execution_count": null,
   "metadata": {
    "collapsed": true,
    "dc": {
     "key": "d8ff65292a"
    },
    "tags": [
     "sample_code"
    ]
   },
   "outputs": [],
   "source": [
    "# Calculating a 95% Confidence intrerval using t.test \n",
    "test_result <- t.test( proportion_deaths ~ handwashing_started, data = monthly, conf.level = 0.95)\n",
    "test_result"
   ]
  },
  {
   "cell_type": "code",
   "execution_count": null,
   "metadata": {
    "collapsed": true,
    "dc": {
     "key": "d8ff65292a"
    },
    "hide": true,
    "tags": [
     "tests"
    ]
   },
   "outputs": [],
   "source": [
    "run_tests({\n",
    "    test_that(\"the confidence intervals match\", {\n",
    "        temp_test_result <- t.test( proportion_deaths ~ handwashing_started, data = monthly)\n",
    "        expect_equivalent(test_result$conf.int, temp_test_result$conf.int,\n",
    "            info = 'The t-test should be calculated with proportion_deaths as a function of handwashing_started.')\n",
    "    })  \n",
    "})"
   ]
  },
  {
   "cell_type": "markdown",
   "metadata": {
    "dc": {
     "key": "0645423069"
    },
    "deletable": false,
    "editable": false,
    "run_control": {
     "frozen": true
    },
    "tags": [
     "context"
    ]
   },
   "source": [
    "## 9. The fate of Dr. Semmelweis\n",
    "<p>That the doctors didn't wash their hands increased the proportion of deaths by between 6.7 and 10 percentage points, according to a 95% confidence interval. All in all, it would seem that Semmelweis had solid evidence that handwashing was a simple but highly effective procedure that could save many lives.</p>\n",
    "<p>The tragedy is that, despite the evidence, Semmelweis' theory — that childbed fever was caused by some \"substance\" (what we today know as <em>bacteria</em>) from autopsy room corpses — was ridiculed by contemporary scientists. The medical community largely rejected his discovery and in 1849 he was forced to leave the Vienna General Hospital for good.</p>\n",
    "<p>One reason for this was that statistics and statistical arguments were uncommon in medical science in the 1800s. Semmelweis only published his data as long tables of raw data, but he didn't show any graphs nor confidence intervals. If he would have had access to the analysis we've just put together he might have been more successful in getting the Viennese doctors to wash their hands.</p>"
   ]
  },
  {
   "cell_type": "code",
   "execution_count": null,
   "metadata": {
    "collapsed": true,
    "dc": {
     "key": "0645423069"
    },
    "tags": [
     "sample_code"
    ]
   },
   "outputs": [],
   "source": [
    "# The data Semmelweis collected points to that:\n",
    "doctors_should_wash_their_hands <- TRUE\n"
   ]
  },
  {
   "cell_type": "code",
   "execution_count": null,
   "metadata": {
    "collapsed": true,
    "dc": {
     "key": "0645423069"
    },
    "hide": true,
    "tags": [
     "tests"
    ]
   },
   "outputs": [],
   "source": []
  }
 ],
 "metadata": {
  "anaconda-cloud": {},
  "kernelspec": {
   "display_name": "R 3.4",
   "language": "R",
   "name": "ir34"
  },
  "language_info": {
   "codemirror_mode": "r",
   "file_extension": ".r",
   "mimetype": "text/x-r-source",
   "name": "R",
   "pygments_lexer": "r",
   "version": "3.4.3"
  }
 },
 "nbformat": 4,
 "nbformat_minor": 2
}
